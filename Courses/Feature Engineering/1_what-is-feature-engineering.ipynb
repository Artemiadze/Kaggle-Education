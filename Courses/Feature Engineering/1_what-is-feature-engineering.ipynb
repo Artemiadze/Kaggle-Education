{
 "cells": [
  {
   "cell_type": "markdown",
   "id": "ff5a23c6",
   "metadata": {
    "papermill": {
     "duration": 0.004041,
     "end_time": "2023-04-20T18:11:17.289495",
     "exception": false,
     "start_time": "2023-04-20T18:11:17.285454",
     "status": "completed"
    },
    "tags": []
   },
   "source": [
    "# Welcome to Feature Engineering! #\n",
    "В этом курсе вы узнаете об одном из самых важных шагов на пути к созданию отличной модели машинного обучения: *разработке функций*. Вы узнаете, как:\n",
    "- определять, какие функции являются наиболее важными, с помощью *взаимной информации*\n",
    "- создавать новые функции в нескольких реальных проблемных областях.\n",
    "- - кодировать категории высокой мощности с помощью *целевой кодировки*\n",
    "- создавать объекты сегментации с помощью *кластеризации по k-среднему значению*\n",
    "- - разбивать вариации набора данных на объекты с помощью *анализа основных компонентов*\n",
    "\n",
    "Из практических упражнений можно составить полноценную **[записную книжку](http://www.kaggle.com/ryanholbrook/feature-engineering-for-house-prices)**, в которой будут использованы все эти методы для подачи заявки на участие в конкурсе **[Цены на жилье: начало работы](https://www.kaggle.com/c/house-prices-advanced-regression-techniques)**. После прохождения этого курса у вас появится несколько идей, которые вы сможете использовать для дальнейшего повышения своей производительности."
   ]
  },
  {
   "cell_type": "markdown",
   "id": "c3160190",
   "metadata": {
    "papermill": {
     "duration": 0.002588,
     "end_time": "2023-04-20T18:11:17.295278",
     "exception": false,
     "start_time": "2023-04-20T18:11:17.292690",
     "status": "completed"
    },
    "tags": []
   },
   "source": [
    "# The Goal of Feature Engineering #\n",
    "\n",
    "Цель разработки функциональных возможностей заключается в том, чтобы ваши данные лучше соответствовали поставленной задаче.\n",
    "\n",
    "Рассмотрите такие показатели \"кажущейся температуры\", как индекс теплопроводности и холодность ветра. Эти величины позволяют измерить \"воспринимаемую\" человеком температуру на основе температуры воздуха, влажности и скорости ветра, которые мы можем измерить непосредственно. Вы могли бы рассматривать кажущуюся температуру как результат своего рода функциональной инженерии, попытки сделать наблюдаемые данные более релевантными тому, что нас на самом деле волнует: как на самом деле ощущается воздух на улице!\n",
    "\n",
    "Вы можете разработать функционал, чтобы:\n",
    "- улучшить прогнозные характеристики модели\n",
    "- сократить потребности в вычислениях или данных\n",
    "- улучшить интерпретируемость результатов\n",
    "\n",
    "# Руководящий принцип разработки функциональных возможностей #\n",
    "\n",
    "Чтобы функция была полезной, она должна иметь отношение к целевому объекту, которое может быть изучено вашей моделью. Например, линейные модели способны изучать только линейные отношения. Итак, при использовании линейной модели ваша цель состоит в том, чтобы преобразовать объекты таким образом, чтобы их связь с целью была линейной.\n",
    "\n",
    "Ключевая идея здесь заключается в том, что преобразование, которое вы применяете к объекту, по сути, становится частью самой модели. Допустим, вы пытались предсказать `Price` квадратных земельных участков, исходя из `Length` одной из сторон. Подгонка линейной модели непосредственно к `Length` дает плохие результаты: зависимость не является линейной.\n",
    "\n",
    "<figure style=\"padding: 1em;\">\n",
    "<img src=\"https://storage.googleapis.com/kaggle-media/learn/images/5D1z24N.png\" width=300, alt=\"A scatterplot of Length along the x-axis and Price along the y-axis, the points increasing in a curve, with a poorly-fitting line superimposed.\">\n",
    "<figcaption style=\"textalign: center; font-style: italic\"><center>A linear model fits poorly with only Length as feature.\n",
    "</center></figcaption>\n",
    "</figure>\n",
    "\n",
    "Однако, если мы возведем в квадрат объект `Length`, чтобы получить `Area`, мы создадим линейную зависимость. Добавление `Area` к набору объектов означает, что эта линейная модель теперь может соответствовать параболе. Другими словами, возведение объекта в квадрат позволяет линейной модели подогнать его под квадратные объекты.\n",
    "\n",
    "<figure style=\"padding: 1em;\">\n",
    "<img src=\"https://storage.googleapis.com/kaggle-media/learn/images/BLRsYOK.png\" width=600, alt=\"Left: Area now on the x-axis. The points increasing in a linear shape, with a well-fitting line superimposed. Right: Length on the x-axis now. The points increase in a curve as before, and a well-fitting curve is superimposed.\">\n",
    "<figcaption style=\"textalign: center; font-style: italic\"><center><strong>Left:</strong> Они намного лучше вписываются в местность. <strong>Right:</strong> Что также улучшает подгонку по длине.\n",
    "</center></figcaption>\n",
    "</figure>\n",
    "\n",
    "Это должно показать вам, почему время, затраченное на разработку функций, может приносить такую высокую отдачу. Какие бы взаимосвязи ваша модель не могла изучить, вы можете создать сами с помощью преобразований. Разрабатывая свой набор функций, подумайте о том, какую информацию можно было бы использовать для достижения наилучшей производительности вашей модели."
   ]
  },
  {
   "cell_type": "markdown",
   "id": "99d9ba5e",
   "metadata": {
    "papermill": {
     "duration": 0.002595,
     "end_time": "2023-04-20T18:11:17.300760",
     "exception": false,
     "start_time": "2023-04-20T18:11:17.298165",
     "status": "completed"
    },
    "tags": []
   },
   "source": [
    "# Example - Concrete Formulations #\n",
    "\n",
    "Чтобы проиллюстрировать эти идеи, мы увидим, как добавление нескольких синтетических признаков к набору данных может повысить эффективность прогнозирования модели случайного леса.\n",
    "\n",
    "Набор данных [*Concrete*](https://www.kaggle.com/sinamhd9/concrete-comprehensive-strength) содержит различные составы бетона и *compressive strength* получаемого продукта, которая является показателем того, какую нагрузку может выдержать данный вид бетона. Задача этого набора данных - предсказать прочность бетона на сжатие с учетом его состава."
   ]
  },
  {
   "cell_type": "code",
   "execution_count": 2,
   "id": "887bfbd0",
   "metadata": {
    "execution": {
     "iopub.execute_input": "2023-04-20T18:11:17.308945Z",
     "iopub.status.busy": "2023-04-20T18:11:17.308365Z",
     "iopub.status.idle": "2023-04-20T18:11:19.017727Z",
     "shell.execute_reply": "2023-04-20T18:11:19.016343Z"
    },
    "papermill": {
     "duration": 1.717214,
     "end_time": "2023-04-20T18:11:19.020868",
     "exception": false,
     "start_time": "2023-04-20T18:11:17.303654",
     "status": "completed"
    },
    "tags": []
   },
   "outputs": [
    {
     "data": {
      "text/html": [
       "<div>\n",
       "<style scoped>\n",
       "    .dataframe tbody tr th:only-of-type {\n",
       "        vertical-align: middle;\n",
       "    }\n",
       "\n",
       "    .dataframe tbody tr th {\n",
       "        vertical-align: top;\n",
       "    }\n",
       "\n",
       "    .dataframe thead th {\n",
       "        text-align: right;\n",
       "    }\n",
       "</style>\n",
       "<table border=\"1\" class=\"dataframe\">\n",
       "  <thead>\n",
       "    <tr style=\"text-align: right;\">\n",
       "      <th></th>\n",
       "      <th>Cement</th>\n",
       "      <th>BlastFurnaceSlag</th>\n",
       "      <th>FlyAsh</th>\n",
       "      <th>Water</th>\n",
       "      <th>Superplasticizer</th>\n",
       "      <th>CoarseAggregate</th>\n",
       "      <th>FineAggregate</th>\n",
       "      <th>Age</th>\n",
       "      <th>CompressiveStrength</th>\n",
       "    </tr>\n",
       "  </thead>\n",
       "  <tbody>\n",
       "    <tr>\n",
       "      <th>0</th>\n",
       "      <td>540.0</td>\n",
       "      <td>0.0</td>\n",
       "      <td>0.0</td>\n",
       "      <td>162.0</td>\n",
       "      <td>2.5</td>\n",
       "      <td>1040.0</td>\n",
       "      <td>676.0</td>\n",
       "      <td>28</td>\n",
       "      <td>79.99</td>\n",
       "    </tr>\n",
       "    <tr>\n",
       "      <th>1</th>\n",
       "      <td>540.0</td>\n",
       "      <td>0.0</td>\n",
       "      <td>0.0</td>\n",
       "      <td>162.0</td>\n",
       "      <td>2.5</td>\n",
       "      <td>1055.0</td>\n",
       "      <td>676.0</td>\n",
       "      <td>28</td>\n",
       "      <td>61.89</td>\n",
       "    </tr>\n",
       "    <tr>\n",
       "      <th>2</th>\n",
       "      <td>332.5</td>\n",
       "      <td>142.5</td>\n",
       "      <td>0.0</td>\n",
       "      <td>228.0</td>\n",
       "      <td>0.0</td>\n",
       "      <td>932.0</td>\n",
       "      <td>594.0</td>\n",
       "      <td>270</td>\n",
       "      <td>40.27</td>\n",
       "    </tr>\n",
       "    <tr>\n",
       "      <th>3</th>\n",
       "      <td>332.5</td>\n",
       "      <td>142.5</td>\n",
       "      <td>0.0</td>\n",
       "      <td>228.0</td>\n",
       "      <td>0.0</td>\n",
       "      <td>932.0</td>\n",
       "      <td>594.0</td>\n",
       "      <td>365</td>\n",
       "      <td>41.05</td>\n",
       "    </tr>\n",
       "    <tr>\n",
       "      <th>4</th>\n",
       "      <td>198.6</td>\n",
       "      <td>132.4</td>\n",
       "      <td>0.0</td>\n",
       "      <td>192.0</td>\n",
       "      <td>0.0</td>\n",
       "      <td>978.4</td>\n",
       "      <td>825.5</td>\n",
       "      <td>360</td>\n",
       "      <td>44.30</td>\n",
       "    </tr>\n",
       "  </tbody>\n",
       "</table>\n",
       "</div>"
      ],
      "text/plain": [
       "   Cement  BlastFurnaceSlag  FlyAsh  Water  Superplasticizer  CoarseAggregate  \\\n",
       "0   540.0               0.0     0.0  162.0               2.5           1040.0   \n",
       "1   540.0               0.0     0.0  162.0               2.5           1055.0   \n",
       "2   332.5             142.5     0.0  228.0               0.0            932.0   \n",
       "3   332.5             142.5     0.0  228.0               0.0            932.0   \n",
       "4   198.6             132.4     0.0  192.0               0.0            978.4   \n",
       "\n",
       "   FineAggregate  Age  CompressiveStrength  \n",
       "0          676.0   28                79.99  \n",
       "1          676.0   28                61.89  \n",
       "2          594.0  270                40.27  \n",
       "3          594.0  365                41.05  \n",
       "4          825.5  360                44.30  "
      ]
     },
     "execution_count": 2,
     "metadata": {},
     "output_type": "execute_result"
    }
   ],
   "source": [
    "import pandas as pd\n",
    "from sklearn.ensemble import RandomForestRegressor\n",
    "from sklearn.model_selection import cross_val_score\n",
    "\n",
    "df = pd.read_csv(\"concrete.csv\")\n",
    "df.head()"
   ]
  },
  {
   "cell_type": "markdown",
   "id": "472cc387",
   "metadata": {
    "papermill": {
     "duration": 0.003007,
     "end_time": "2023-04-20T18:11:19.027514",
     "exception": false,
     "start_time": "2023-04-20T18:11:19.024507",
     "status": "completed"
    },
    "tags": []
   },
   "source": [
    "Здесь вы можете ознакомиться с различными ингредиентами, входящими в состав каждого вида бетона. Чуть позже мы увидим, как добавление некоторых дополнительных синтетических характеристик, полученных на их основе, может помочь модели изучить важные взаимосвязи между ними.\n",
    "\n",
    "Сначала мы установим исходные условия, обучив модель на необработанном наборе данных. Это поможет нам определить, действительно ли полезны наши новые функции.\n",
    "\n",
    "Установление таких базовых показателей является хорошей практикой в начале процесса разработки функций. Оценка базовых показателей может помочь вам решить, стоит ли сохранять ваши новые функции или вам следует отказаться от них и, возможно, попробовать что-то другое."
   ]
  },
  {
   "cell_type": "code",
   "execution_count": null,
   "id": "57dcb483",
   "metadata": {
    "execution": {
     "iopub.execute_input": "2023-04-20T18:11:19.036719Z",
     "iopub.status.busy": "2023-04-20T18:11:19.035557Z",
     "iopub.status.idle": "2023-04-20T18:11:29.791647Z",
     "shell.execute_reply": "2023-04-20T18:11:29.790005Z"
    },
    "papermill": {
     "duration": 10.763752,
     "end_time": "2023-04-20T18:11:29.794561",
     "exception": false,
     "start_time": "2023-04-20T18:11:19.030809",
     "status": "completed"
    },
    "tags": []
   },
   "outputs": [
    {
     "name": "stdout",
     "output_type": "stream",
     "text": [
      "MAE Baseline Score: 8.272\n"
     ]
    }
   ],
   "source": [
    "X = df.copy()\n",
    "y = X.pop(\"CompressiveStrength\")\n",
    "\n",
    "# Базовая модель обучения и оценки\n",
    "baseline = RandomForestRegressor(criterion=\"absolute_error\", random_state=0)\n",
    "baseline_score = cross_val_score(\n",
    "    baseline, X, y, cv=5, scoring=\"neg_mean_absolute_error\"\n",
    ")\n",
    "baseline_score = -1 * baseline_score.mean()\n",
    "\n",
    "print(f\"MAE Baseline Score: {baseline_score:.4}\")"
   ]
  },
  {
   "cell_type": "markdown",
   "id": "25e7685c",
   "metadata": {
    "papermill": {
     "duration": 0.003214,
     "end_time": "2023-04-20T18:11:29.801310",
     "exception": false,
     "start_time": "2023-04-20T18:11:29.798096",
     "status": "completed"
    },
    "tags": []
   },
   "source": [
    "Если вы когда-нибудь готовили дома, то, возможно, знаете, что соотношение (*ratio*) ингредиентов в рецепте обычно является лучшим показателем того, каким получится блюдо, чем их абсолютное количество. Мы можем предположить, что соотношение вышеперечисленных компонентов будет хорошим показателем `CompressiveStrength`.\n",
    "\n",
    "Приведенная ниже ячейка добавляет в набор данных три новых параметра соотношения."
   ]
  },
  {
   "cell_type": "code",
   "execution_count": null,
   "id": "bdef1d82",
   "metadata": {
    "execution": {
     "iopub.execute_input": "2023-04-20T18:11:29.810131Z",
     "iopub.status.busy": "2023-04-20T18:11:29.809706Z",
     "iopub.status.idle": "2023-04-20T18:11:44.577916Z",
     "shell.execute_reply": "2023-04-20T18:11:44.576533Z"
    },
    "papermill": {
     "duration": 14.775831,
     "end_time": "2023-04-20T18:11:44.580577",
     "exception": false,
     "start_time": "2023-04-20T18:11:29.804746",
     "status": "completed"
    },
    "tags": []
   },
   "outputs": [
    {
     "name": "stdout",
     "output_type": "stream",
     "text": [
      "MAE Score with Ratio Features: 7.948\n"
     ]
    }
   ],
   "source": [
    "X = df.copy()\n",
    "y = X.pop(\"CompressiveStrength\")\n",
    "\n",
    "# Создание синтетических объектов\n",
    "X[\"FCRatio\"] = X[\"FineAggregate\"] / X[\"CoarseAggregate\"]\n",
    "X[\"AggCmtRatio\"] = (X[\"CoarseAggregate\"] + X[\"FineAggregate\"]) / X[\"Cement\"]\n",
    "X[\"WtrCmtRatio\"] = X[\"Water\"] / X[\"Cement\"]\n",
    "\n",
    "# Модель обучения и оценки на основе набора данных с дополнительными функциями соотношения\n",
    "model = RandomForestRegressor(criterion=\"absolute_error\", random_state=0)\n",
    "score = cross_val_score(\n",
    "    model, X, y, cv=5, scoring=\"neg_mean_absolute_error\"\n",
    ")\n",
    "score = -1 * score.mean()\n",
    "\n",
    "print(f\"MAE Score with Ratio Features: {score:.4}\")"
   ]
  },
  {
   "cell_type": "markdown",
   "id": "1a79c9e7",
   "metadata": {
    "papermill": {
     "duration": 0.003308,
     "end_time": "2023-04-20T18:11:44.587957",
     "exception": false,
     "start_time": "2023-04-20T18:11:44.584649",
     "status": "completed"
    },
    "tags": []
   },
   "source": [
    "И, конечно же, производительность повысилась! Это свидетельствует о том, что новые функции ratio предоставляют модели важную информацию, которую она не обнаруживала раньше.\n",
    "\n",
    "# Продолжение #\n",
    "\n",
    "Мы убедились, что разработка новых функций может повысить производительность модели.  Но как вы определяете объекты в наборе данных, которые было бы полезно объединить?  [***Откройте для себя полезные функции***](https://www.kaggle.com/ryan holbrook/mutual-information) с помощью mutual information."
   ]
  }
 ],
 "metadata": {
  "jupytext": {
   "cell_metadata_filter": "-all",
   "formats": "ipynb"
  },
  "kernelspec": {
   "display_name": "Python 3",
   "language": "python",
   "name": "python3"
  },
  "language_info": {
   "codemirror_mode": {
    "name": "ipython",
    "version": 3
   },
   "file_extension": ".py",
   "mimetype": "text/x-python",
   "name": "python",
   "nbconvert_exporter": "python",
   "pygments_lexer": "ipython3",
   "version": "3.13.1"
  },
  "papermill": {
   "default_parameters": {},
   "duration": 39.806849,
   "end_time": "2023-04-20T18:11:45.423057",
   "environment_variables": {},
   "exception": null,
   "input_path": "__notebook__.ipynb",
   "output_path": "__notebook__.ipynb",
   "parameters": {},
   "start_time": "2023-04-20T18:11:05.616208",
   "version": "2.4.0"
  }
 },
 "nbformat": 4,
 "nbformat_minor": 5
}

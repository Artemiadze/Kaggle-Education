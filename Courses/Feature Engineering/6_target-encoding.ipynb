{
 "cells": [
  {
   "cell_type": "markdown",
   "id": "7edc7770",
   "metadata": {
    "papermill": {
     "duration": 0.00469,
     "end_time": "2023-04-20T18:11:16.420417",
     "exception": false,
     "start_time": "2023-04-20T18:11:16.415727",
     "status": "completed"
    },
    "tags": []
   },
   "source": [
    "# Introduction #\n",
    "\n",
    "Большинство методов, с которыми мы познакомились в этом курсе, были предназначены для числовых объектов. Метод, который мы рассмотрим в этом уроке, *целевое кодирование*, предназначен для категориальных объектов. Это метод кодирования категорий в виде чисел, похожий на однократное или меточное кодирование, с той разницей, что для создания кодировки также используется *target*. Это делает его тем, что мы называем *контролируемым* методом разработки функций."
   ]
  },
  {
   "cell_type": "code",
   "execution_count": 2,
   "id": "cdcc1258",
   "metadata": {
    "_kg_hide-input": true,
    "execution": {
     "iopub.execute_input": "2023-04-20T18:11:16.432178Z",
     "iopub.status.busy": "2023-04-20T18:11:16.431151Z",
     "iopub.status.idle": "2023-04-20T18:11:16.467037Z",
     "shell.execute_reply": "2023-04-20T18:11:16.465533Z"
    },
    "papermill": {
     "duration": 0.046242,
     "end_time": "2023-04-20T18:11:16.470595",
     "exception": false,
     "start_time": "2023-04-20T18:11:16.424353",
     "status": "completed"
    },
    "tags": []
   },
   "outputs": [],
   "source": [
    "import pandas as pd\n",
    "\n",
    "autos = pd.read_csv(\"autos.csv\")"
   ]
  },
  {
   "cell_type": "markdown",
   "id": "77b3eec9",
   "metadata": {
    "lines_to_next_cell": 0,
    "papermill": {
     "duration": 0.00343,
     "end_time": "2023-04-20T18:11:16.478019",
     "exception": false,
     "start_time": "2023-04-20T18:11:16.474589",
     "status": "completed"
    },
    "tags": []
   },
   "source": [
    "# Target Encoding #\n",
    "\n",
    "A **target encoding** это любой вид кодировки, который заменяет категории объектов некоторым числом, полученным из целевого значения.\n",
    "\n",
    "Простой и эффективный вариант - применить групповую статистику из урока 3, например, среднее значение. Используя *Automobiles* в наборе данных вычисляется средняя цена для каждой марки транспортного средства:"
   ]
  },
  {
   "cell_type": "code",
   "execution_count": 3,
   "id": "a54df105",
   "metadata": {
    "execution": {
     "iopub.execute_input": "2023-04-20T18:11:16.488099Z",
     "iopub.status.busy": "2023-04-20T18:11:16.487063Z",
     "iopub.status.idle": "2023-04-20T18:11:16.527690Z",
     "shell.execute_reply": "2023-04-20T18:11:16.525791Z"
    },
    "papermill": {
     "duration": 0.049719,
     "end_time": "2023-04-20T18:11:16.531547",
     "exception": false,
     "start_time": "2023-04-20T18:11:16.481828",
     "status": "completed"
    },
    "tags": []
   },
   "outputs": [
    {
     "data": {
      "text/html": [
       "<div>\n",
       "<style scoped>\n",
       "    .dataframe tbody tr th:only-of-type {\n",
       "        vertical-align: middle;\n",
       "    }\n",
       "\n",
       "    .dataframe tbody tr th {\n",
       "        vertical-align: top;\n",
       "    }\n",
       "\n",
       "    .dataframe thead th {\n",
       "        text-align: right;\n",
       "    }\n",
       "</style>\n",
       "<table border=\"1\" class=\"dataframe\">\n",
       "  <thead>\n",
       "    <tr style=\"text-align: right;\">\n",
       "      <th></th>\n",
       "      <th>make</th>\n",
       "      <th>price</th>\n",
       "      <th>make_encoded</th>\n",
       "    </tr>\n",
       "  </thead>\n",
       "  <tbody>\n",
       "    <tr>\n",
       "      <th>0</th>\n",
       "      <td>alfa-romero</td>\n",
       "      <td>13495</td>\n",
       "      <td>15498.333333</td>\n",
       "    </tr>\n",
       "    <tr>\n",
       "      <th>1</th>\n",
       "      <td>alfa-romero</td>\n",
       "      <td>16500</td>\n",
       "      <td>15498.333333</td>\n",
       "    </tr>\n",
       "    <tr>\n",
       "      <th>2</th>\n",
       "      <td>alfa-romero</td>\n",
       "      <td>16500</td>\n",
       "      <td>15498.333333</td>\n",
       "    </tr>\n",
       "    <tr>\n",
       "      <th>3</th>\n",
       "      <td>audi</td>\n",
       "      <td>13950</td>\n",
       "      <td>17859.166667</td>\n",
       "    </tr>\n",
       "    <tr>\n",
       "      <th>4</th>\n",
       "      <td>audi</td>\n",
       "      <td>17450</td>\n",
       "      <td>17859.166667</td>\n",
       "    </tr>\n",
       "    <tr>\n",
       "      <th>5</th>\n",
       "      <td>audi</td>\n",
       "      <td>15250</td>\n",
       "      <td>17859.166667</td>\n",
       "    </tr>\n",
       "    <tr>\n",
       "      <th>6</th>\n",
       "      <td>audi</td>\n",
       "      <td>17710</td>\n",
       "      <td>17859.166667</td>\n",
       "    </tr>\n",
       "    <tr>\n",
       "      <th>7</th>\n",
       "      <td>audi</td>\n",
       "      <td>18920</td>\n",
       "      <td>17859.166667</td>\n",
       "    </tr>\n",
       "    <tr>\n",
       "      <th>8</th>\n",
       "      <td>audi</td>\n",
       "      <td>23875</td>\n",
       "      <td>17859.166667</td>\n",
       "    </tr>\n",
       "    <tr>\n",
       "      <th>9</th>\n",
       "      <td>bmw</td>\n",
       "      <td>16430</td>\n",
       "      <td>26118.750000</td>\n",
       "    </tr>\n",
       "  </tbody>\n",
       "</table>\n",
       "</div>"
      ],
      "text/plain": [
       "          make  price  make_encoded\n",
       "0  alfa-romero  13495  15498.333333\n",
       "1  alfa-romero  16500  15498.333333\n",
       "2  alfa-romero  16500  15498.333333\n",
       "3         audi  13950  17859.166667\n",
       "4         audi  17450  17859.166667\n",
       "5         audi  15250  17859.166667\n",
       "6         audi  17710  17859.166667\n",
       "7         audi  18920  17859.166667\n",
       "8         audi  23875  17859.166667\n",
       "9          bmw  16430  26118.750000"
      ]
     },
     "execution_count": 3,
     "metadata": {},
     "output_type": "execute_result"
    }
   ],
   "source": [
    "autos[\"make_encoded\"] = autos.groupby(\"make\")[\"price\"].transform(\"mean\")\n",
    "\n",
    "autos[[\"make\", \"price\", \"make_encoded\"]].head(10)"
   ]
  },
  {
   "cell_type": "markdown",
   "id": "77ee04f9",
   "metadata": {
    "papermill": {
     "duration": 0.003628,
     "end_time": "2023-04-20T18:11:16.539305",
     "exception": false,
     "start_time": "2023-04-20T18:11:16.535677",
     "status": "completed"
    },
    "tags": []
   },
   "source": [
    "Этот вид целевого кодирования иногда называют **mean encoding**. Применяемый к бинарному целевому объекту, он также называется **bin counting**. (Другие названия, с которыми вы можете столкнуться, включают в себя: вероятностное кодирование, кодирование воздействия и одноразовое кодирование.)\n",
    "\n",
    "# Smoothing #\n",
    "\n",
    "Однако подобная кодировка сопряжена с рядом проблем. Во-первых, это *неизвестные категории*. Целевые кодировки создают особый риск переобучения, что означает, что их необходимо обучать независимому разделению \"кодировок\". Когда вы присоедините кодировку к будущим разделениям, Pandas заполнит пропущенные значения для любых категорий, отсутствующих в разделении кодировки. Эти пропущенные значения вам придется как-то вычислить.\n",
    "\n",
    "Во-вторых, это *rare categories*. Если категория встречается в наборе данных всего несколько раз, любая статистика, рассчитанная по ее группе, вряд ли будет очень точной. В *Automobiles* dataset, the `mercurcy` изменение происходит только один раз. \"Средняя\" цена, которую мы рассчитали, - это всего лишь цена одного транспортного средства, которая может не очень точно отражать любые изменения, которые мы можем увидеть в будущем. Целевые категории скорости кодирования могут повысить вероятность переобучения.\n",
    "\n",
    "Решением этих проблем является добавление **smoothing**. Идея состоит в том, чтобы смешать *in-category* среднее значение с учетом*overall* средний. Редкие категории получают меньший вес в среднем по своей категории, в то время как отсутствующие категории получают только общее среднее значение.\n",
    "\n",
    "In pseudocode:\n",
    "```\n",
    "encoding = weight * in_category + (1 - weight) * overall\n",
    "```\n",
    "Когда `weight` это значение от 0 до 1, рассчитанное исходя из частоты использования категории.\n",
    "\n",
    "Простой способ определить значение для `weight` состоит в том, чтобы вычислить **m-estimate**:\n",
    "```\n",
    "weight = n / (n + m)\n",
    "```\n",
    "Когда `n` это общее количество раз, когда данная категория встречается в данных. Параметр `m` определяет \"коэффициент сглаживания\". Большие значения `m` придайте больше значения общей оценке.\n",
    "\n",
    "<figure style=\"padding: 1em;\">\n",
    "<img src=\"https://storage.googleapis.com/kaggle-media/learn/images/1uVtQEz.png\" width=500, alt=\"\">\n",
    "<figcaption style=\"textalign: center; font-style: italic\"><center>\n",
    "</center></figcaption>\n",
    "</figure>\n",
    "\n",
    "В *Automobiles* в наборе данных есть три автомобиля с маркой `chevrolet`. Если мы выберем `m=2.0`, Тогда `chevrolet` в категорию будет включено 60% от средней цены Chevrolet плюс 40% от общей средней цены.\n",
    "```\n",
    "chevrolet = 0.6 * 6000.00 + 0.4 * 13285.03\n",
    "```\n",
    "\n",
    "При выборе значения для `m`,подумайте, насколько шумными, по вашему мнению, должны быть категории. Сильно ли различается цена автомобиля в зависимости от марки? Потребуется ли вам много данных для получения точных оценок? Если да, то, возможно, лучше выбрать более высокую стоимость для `m`; если бы средняя цена на каждую марку была относительно стабильной, можно было бы предложить меньшую стоимость.\n",
    "\n",
    "<blockquote style=\"margin-right:auto; margin-left:auto; background-color: #ebf9ff; padding: 1em; margin:24px;\">\n",
    "<strong>Варианты использования для целевой кодировки</strong><br>\n",
    "Целевая кодировка отлично подходит для:\n",
    "<ul>\n",
    "<li><strong>Функции с высокой мощностью</strong>: Кодирование функции с большим количеством категорий может быть затруднено: однократное кодирование привело бы к появлению слишком большого количества функций, а альтернативные варианты, такие как кодировка меток, могут не подходить для этой функции. Целевая кодировка выводит номера для категорий, используя наиболее важное свойство объектов: их связь с целевой кодировкой.\n",
    "<li><strong>Функции, ориентированные на предметную область</strong>: Исходя из предыдущего опыта, вы можете предположить, что категориальный признак должен быть важным, даже если он имеет низкую оценку по показателю признака. Целевая кодировка может помочь выявить истинную информативность признака.\n",
    "</ul>\n",
    "</blockquote>\n",
    "\n",
    "# Example - MovieLens1M #\n",
    "\n",
    "The [*MovieLens1M*](https://www.kaggle.com/grouplens/movielens-20m-dataset) набор данных содержит миллион оценок фильмов пользователями веб-сайта MovieLens, а также характеристики, описывающие каждого пользователя и фильм. Эта скрытая ячейка настраивает все параметры:"
   ]
  },
  {
   "cell_type": "code",
   "execution_count": 1,
   "id": "570055c8",
   "metadata": {
    "_kg_hide-input": true,
    "execution": {
     "iopub.execute_input": "2023-04-20T18:11:16.549735Z",
     "iopub.status.busy": "2023-04-20T18:11:16.548996Z",
     "iopub.status.idle": "2023-04-20T18:11:21.953736Z",
     "shell.execute_reply": "2023-04-20T18:11:21.952391Z"
    },
    "papermill": {
     "duration": 5.413234,
     "end_time": "2023-04-20T18:11:21.956433",
     "exception": false,
     "start_time": "2023-04-20T18:11:16.543199",
     "status": "completed"
    },
    "tags": []
   },
   "outputs": [
    {
     "name": "stdout",
     "output_type": "stream",
     "text": [
      "Number of Unique Zipcodes: 3439\n"
     ]
    }
   ],
   "source": [
    "\n",
    "import matplotlib.pyplot as plt\n",
    "import numpy as np\n",
    "import pandas as pd\n",
    "import seaborn as sns\n",
    "import warnings\n",
    "\n",
    "plt.style.use(\"seaborn-v0_8-whitegrid\")\n",
    "plt.rc(\"figure\", autolayout=True)\n",
    "plt.rc(\n",
    "    \"axes\",\n",
    "    labelweight=\"bold\",\n",
    "    labelsize=\"large\",\n",
    "    titleweight=\"bold\",\n",
    "    titlesize=14,\n",
    "    titlepad=10,\n",
    ")\n",
    "warnings.filterwarnings('ignore')\n",
    "\n",
    "\n",
    "df = pd.read_csv(\"movielens1m.csv\")\n",
    "df = df.astype(np.uint8, errors='ignore') # reduce memory footprint\n",
    "print(\"Number of Unique Zipcodes: {}\".format(df[\"Zipcode\"].nunique()))"
   ]
  },
  {
   "cell_type": "markdown",
   "id": "426dff38",
   "metadata": {
    "papermill": {
     "duration": 0.004246,
     "end_time": "2023-04-20T18:11:21.965258",
     "exception": false,
     "start_time": "2023-04-20T18:11:21.961012",
     "status": "completed"
    },
    "tags": []
   },
   "source": [
    "Имея более 3000 категорий, компания `Zipcode` функция является хорошим кандидатом для целевой кодировки, а размер этого набора данных (более миллиона строк) означает, что мы можем сэкономить часть данных для создания кодировки.\n",
    "\n",
    "Для начала мы создадим разделение на 25% для обучения целевого кодировщика."
   ]
  },
  {
   "cell_type": "code",
   "execution_count": 2,
   "id": "a136a227",
   "metadata": {
    "execution": {
     "iopub.execute_input": "2023-04-20T18:11:21.976912Z",
     "iopub.status.busy": "2023-04-20T18:11:21.976468Z",
     "iopub.status.idle": "2023-04-20T18:11:22.451101Z",
     "shell.execute_reply": "2023-04-20T18:11:22.449710Z"
    },
    "papermill": {
     "duration": 0.484464,
     "end_time": "2023-04-20T18:11:22.455179",
     "exception": false,
     "start_time": "2023-04-20T18:11:21.970715",
     "status": "completed"
    },
    "tags": []
   },
   "outputs": [],
   "source": [
    "X = df.copy()\n",
    "y = X.pop('Rating')\n",
    "\n",
    "X_encode = X.sample(frac=0.25)\n",
    "y_encode = y[X_encode.index]\n",
    "X_pretrain = X.drop(X_encode.index)\n",
    "y_train = y[X_pretrain.index]"
   ]
  },
  {
   "cell_type": "markdown",
   "id": "752ebda0",
   "metadata": {
    "papermill": {
     "duration": 0.003727,
     "end_time": "2023-04-20T18:11:22.463313",
     "exception": false,
     "start_time": "2023-04-20T18:11:22.459586",
     "status": "completed"
    },
    "tags": []
   },
   "source": [
    "The `category_encoders` package in `scikit-learn-contrib` реализует кодировщик m-оценок, который мы будем использовать для кодирования нашего `Zipcode` feature."
   ]
  },
  {
   "cell_type": "code",
   "execution_count": 4,
   "id": "b8d8f0e7",
   "metadata": {
    "execution": {
     "iopub.execute_input": "2023-04-20T18:11:22.473369Z",
     "iopub.status.busy": "2023-04-20T18:11:22.472938Z",
     "iopub.status.idle": "2023-04-20T18:11:24.221833Z",
     "shell.execute_reply": "2023-04-20T18:11:24.220580Z"
    },
    "papermill": {
     "duration": 1.757573,
     "end_time": "2023-04-20T18:11:24.224929",
     "exception": false,
     "start_time": "2023-04-20T18:11:22.467356",
     "status": "completed"
    },
    "tags": []
   },
   "outputs": [],
   "source": [
    "from category_encoders import MEstimateEncoder\n",
    "\n",
    "# Создайте экземпляр кодировщика. Выберите m для управления уровнем шума.\n",
    "encoder = MEstimateEncoder(cols=[\"Zipcode\"], m=5.0)\n",
    "\n",
    "# Установите кодировщик на разделитель кодировки.\n",
    "encoder.fit(X_encode, y_encode)\n",
    "\n",
    "#Закодируйте столбец почтового индекса, чтобы создать окончательные обучающие данные\n",
    "X_train = encoder.transform(X_pretrain)"
   ]
  },
  {
   "cell_type": "markdown",
   "id": "6469a9c7",
   "metadata": {
    "papermill": {
     "duration": 0.003957,
     "end_time": "2023-04-20T18:11:24.233109",
     "exception": false,
     "start_time": "2023-04-20T18:11:24.229152",
     "status": "completed"
    },
    "tags": []
   },
   "source": [
    "Давайте сравним закодированные значения с целевыми, чтобы увидеть, насколько информативной может быть наша кодировка."
   ]
  },
  {
   "cell_type": "code",
   "execution_count": 5,
   "id": "2998ffa7",
   "metadata": {
    "execution": {
     "iopub.execute_input": "2023-04-20T18:11:24.244840Z",
     "iopub.status.busy": "2023-04-20T18:11:24.244058Z",
     "iopub.status.idle": "2023-04-20T18:11:28.528158Z",
     "shell.execute_reply": "2023-04-20T18:11:28.526264Z"
    },
    "papermill": {
     "duration": 4.293438,
     "end_time": "2023-04-20T18:11:28.531287",
     "exception": false,
     "start_time": "2023-04-20T18:11:24.237849",
     "status": "completed"
    },
    "tags": []
   },
   "outputs": [
    {
     "data": {
      "image/png": "[encoded data removed]",
      "text/plain": [
       "<Figure size 576x432 with 1 Axes>"
      ]
     },
     "metadata": {},
     "output_type": "display_data"
    }
   ],
   "source": [
    "plt.figure(dpi=90)\n",
    "ax = sns.distplot(y, kde=False, norm_hist=True)\n",
    "ax = sns.kdeplot(X_train.Zipcode, color='r', ax=ax)\n",
    "ax.set_xlabel(\"Rating\")\n",
    "ax.legend(labels=['Zipcode', 'Rating']);"
   ]
  },
  {
   "cell_type": "markdown",
   "id": "190d0166",
   "metadata": {
    "papermill": {
     "duration": 0.00423,
     "end_time": "2023-04-20T18:11:28.540202",
     "exception": false,
     "start_time": "2023-04-20T18:11:28.535972",
     "status": "completed"
    },
    "tags": []
   },
   "source": [
    "Распределение закодированной функции \"Почтовый индекс\" примерно соответствует распределению фактических оценок, а это означает, что оценки зрителей фильмов достаточно сильно различались от почтового индекса к почтовому индексу, чтобы наша целевая кодировка могла содержать полезную информацию."
   ]
  }
 ],
 "metadata": {
  "jupytext": {
   "cell_metadata_filter": "-all",
   "formats": "ipynb"
  },
  "kernelspec": {
   "display_name": "Python 3",
   "language": "python",
   "name": "python3"
  },
  "language_info": {
   "codemirror_mode": {
    "name": "ipython",
    "version": 3
   },
   "file_extension": ".py",
   "mimetype": "text/x-python",
   "name": "python",
   "nbconvert_exporter": "python",
   "pygments_lexer": "ipython3",
   "version": "3.13.1"
  },
  "papermill": {
   "default_parameters": {},
   "duration": 24.001919,
   "end_time": "2023-04-20T18:11:29.478166",
   "environment_variables": {},
   "exception": null,
   "input_path": "__notebook__.ipynb",
   "output_path": "__notebook__.ipynb",
   "parameters": {},
   "start_time": "2023-04-20T18:11:05.476247",
   "version": "2.4.0"
  }
 },
 "nbformat": 4,
 "nbformat_minor": 5
}
